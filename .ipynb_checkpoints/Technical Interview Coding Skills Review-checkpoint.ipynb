{
 "cells": [
  {
   "cell_type": "markdown",
   "metadata": {},
   "source": [
    "# Insertion Sorting"
   ]
  },
  {
   "cell_type": "markdown",
   "metadata": {},
   "source": [
    "#### sorting list in numerical values"
   ]
  },
  {
   "cell_type": "code",
   "execution_count": 41,
   "metadata": {
    "ExecuteTime": {
     "end_time": "2020-03-13T20:06:14.246184Z",
     "start_time": "2020-03-13T20:06:14.243578Z"
    }
   },
   "outputs": [],
   "source": [
    "list = [83,29,88,92,1,20,11,71,24]"
   ]
  },
  {
   "cell_type": "code",
   "execution_count": 42,
   "metadata": {
    "ExecuteTime": {
     "end_time": "2020-03-13T20:06:14.313630Z",
     "start_time": "2020-03-13T20:06:14.304778Z"
    }
   },
   "outputs": [
    {
     "name": "stdout",
     "output_type": "stream",
     "text": [
      "[1, 11, 20, 24, 29, 71, 83, 88, 92]\n"
     ]
    }
   ],
   "source": [
    "def insertionsort(list):\n",
    "    for index in range(1,len(list)):\n",
    "        currentvalue = list[index]\n",
    "        position =index\n",
    "        \n",
    "        while position>0 and list[position-1]> currentvalue:\n",
    "            list[position]=list[position-1]\n",
    "            position = position-1\n",
    "        list[position]=currentvalue\n",
    "        \n",
    "insertionsort(list)\n",
    "print(list)"
   ]
  },
  {
   "cell_type": "code",
   "execution_count": 43,
   "metadata": {
    "ExecuteTime": {
     "end_time": "2020-03-13T20:06:14.402919Z",
     "start_time": "2020-03-13T20:06:14.396164Z"
    }
   },
   "outputs": [
    {
     "name": "stdout",
     "output_type": "stream",
     "text": [
      "[2, 11, 33, 55, 67, 83, 90, 100]\n"
     ]
    }
   ],
   "source": [
    "list2 = [100,2,67,83,11,90,33,55]\n",
    "def insertsort(list):\n",
    "    for index in range(1,len(list)):\n",
    "        currentvalue = list[index]\n",
    "        position = index\n",
    "        \n",
    "        while position >0 and list[position-1]>currentvalue:\n",
    "            list[position] = list[position-1]\n",
    "            position = position-1\n",
    "        list[position]=currentvalue\n",
    "insertsort(list2)\n",
    "print(list2)\n",
    "\n",
    "        \n",
    "            "
   ]
  },
  {
   "cell_type": "code",
   "execution_count": 44,
   "metadata": {
    "ExecuteTime": {
     "end_time": "2020-03-13T20:06:14.483469Z",
     "start_time": "2020-03-13T20:06:14.469458Z"
    }
   },
   "outputs": [
    {
     "data": {
      "text/plain": [
       "[5, 11, 22, 44, 77, 88, 99]"
      ]
     },
     "execution_count": 44,
     "metadata": {},
     "output_type": "execute_result"
    }
   ],
   "source": [
    "list3 = [5,99,22,11,44,77,88]\n",
    "\n",
    "def instsort(list):\n",
    "    for index in range(1,len(list)):\n",
    "        currentvalue = list[index]\n",
    "        position = index\n",
    "        \n",
    "        while position > 0 and list[position-1] > currentvalue:\n",
    "            list[position] = list[position-1]\n",
    "            position = position-1\n",
    "        list[position]=currentvalue\n",
    "instsort(list3)\n",
    "list3"
   ]
  },
  {
   "cell_type": "markdown",
   "metadata": {},
   "source": [
    "# Searching "
   ]
  },
  {
   "cell_type": "markdown",
   "metadata": {},
   "source": [
    "### return boolean if value is in list"
   ]
  },
  {
   "cell_type": "code",
   "execution_count": 45,
   "metadata": {
    "ExecuteTime": {
     "end_time": "2020-03-13T20:06:14.725588Z",
     "start_time": "2020-03-13T20:06:14.722851Z"
    }
   },
   "outputs": [
    {
     "name": "stdout",
     "output_type": "stream",
     "text": [
      "[5, 11, 22, 44, 77, 88, 99]\n"
     ]
    }
   ],
   "source": [
    "print(list3)"
   ]
  },
  {
   "cell_type": "code",
   "execution_count": 46,
   "metadata": {
    "ExecuteTime": {
     "end_time": "2020-03-13T20:06:14.815979Z",
     "start_time": "2020-03-13T20:06:14.810959Z"
    }
   },
   "outputs": [
    {
     "data": {
      "text/plain": [
       "True"
      ]
     },
     "execution_count": 46,
     "metadata": {},
     "output_type": "execute_result"
    }
   ],
   "source": [
    "22 in list3"
   ]
  },
  {
   "cell_type": "code",
   "execution_count": 47,
   "metadata": {
    "ExecuteTime": {
     "end_time": "2020-03-13T20:06:14.890724Z",
     "start_time": "2020-03-13T20:06:14.887309Z"
    }
   },
   "outputs": [
    {
     "data": {
      "text/plain": [
       "False"
      ]
     },
     "execution_count": 47,
     "metadata": {},
     "output_type": "execute_result"
    }
   ],
   "source": [
    "100 in list3"
   ]
  },
  {
   "cell_type": "markdown",
   "metadata": {},
   "source": [
    "# Find duplicates in a list"
   ]
  },
  {
   "cell_type": "code",
   "execution_count": 48,
   "metadata": {
    "ExecuteTime": {
     "end_time": "2020-03-13T20:06:15.059652Z",
     "start_time": "2020-03-13T20:06:15.056512Z"
    }
   },
   "outputs": [],
   "source": [
    "list4 = [1,3,1,9,2,5,6,7,7,8,1,9]"
   ]
  },
  {
   "cell_type": "markdown",
   "metadata": {},
   "source": [
    "#### Lists all duplicates in a list"
   ]
  },
  {
   "cell_type": "code",
   "execution_count": 49,
   "metadata": {
    "ExecuteTime": {
     "end_time": "2020-03-13T20:06:15.226750Z",
     "start_time": "2020-03-13T20:06:15.223205Z"
    }
   },
   "outputs": [],
   "source": [
    "def findalldupes(list):\n",
    "    duplicates = []\n",
    "    for item in list:\n",
    "        if list.count(item) >1:\n",
    "            duplicates.append(item)\n",
    "    print(duplicates)"
   ]
  },
  {
   "cell_type": "code",
   "execution_count": 50,
   "metadata": {
    "ExecuteTime": {
     "end_time": "2020-03-13T20:06:15.310011Z",
     "start_time": "2020-03-13T20:06:15.307417Z"
    },
    "scrolled": true
   },
   "outputs": [
    {
     "name": "stdout",
     "output_type": "stream",
     "text": [
      "[1, 1, 9, 7, 7, 1, 9]\n"
     ]
    }
   ],
   "source": [
    "findalldupes(list4)"
   ]
  },
  {
   "cell_type": "markdown",
   "metadata": {},
   "source": [
    "#### Lists duplicate values in a list"
   ]
  },
  {
   "cell_type": "code",
   "execution_count": 51,
   "metadata": {
    "ExecuteTime": {
     "end_time": "2020-03-13T20:06:15.478803Z",
     "start_time": "2020-03-13T20:06:15.474264Z"
    }
   },
   "outputs": [],
   "source": [
    "def showdupes(list):\n",
    "    duplicate_values = []\n",
    "    for item in list:\n",
    "        if list.count(item) > 1:\n",
    "            duplicate_values.append(item)\n",
    "    print(set(duplicate_values))"
   ]
  },
  {
   "cell_type": "code",
   "execution_count": 52,
   "metadata": {
    "ExecuteTime": {
     "end_time": "2020-03-13T20:06:15.561038Z",
     "start_time": "2020-03-13T20:06:15.557989Z"
    }
   },
   "outputs": [
    {
     "name": "stdout",
     "output_type": "stream",
     "text": [
      "{1, 9, 7}\n"
     ]
    }
   ],
   "source": [
    "showdupes(list4)"
   ]
  },
  {
   "cell_type": "markdown",
   "metadata": {
    "ExecuteTime": {
     "end_time": "2020-05-09T09:18:46.006023Z",
     "start_time": "2020-05-09T09:18:45.979515Z"
    }
   },
   "source": [
    "# String ends with sub_String"
   ]
  },
  {
   "cell_type": "code",
   "execution_count": 5,
   "metadata": {
    "ExecuteTime": {
     "end_time": "2020-05-09T09:47:16.393815Z",
     "start_time": "2020-05-09T09:47:16.379274Z"
    }
   },
   "outputs": [
    {
     "name": "stdout",
     "output_type": "stream",
     "text": [
      "New job ends with job, This is True!\n"
     ]
    }
   ],
   "source": [
    "def string_ending_with(string,sub_string):\n",
    "    if string[-len(sub_string):] == sub_string:\n",
    "        ends_with = True\n",
    "        print(f'{string} ends with {sub_string}, This is {ends_with}!')\n",
    "    else:\n",
    "        ends_with = False\n",
    "        print(f'{string} ends with {sub_string}, This is {ends_with}!')\n",
    "\n",
    "string_ending_with('New job','job')"
   ]
  },
  {
   "cell_type": "code",
   "execution_count": 6,
   "metadata": {
    "ExecuteTime": {
     "end_time": "2020-05-09T09:47:30.117194Z",
     "start_time": "2020-05-09T09:47:30.102283Z"
    },
    "scrolled": true
   },
   "outputs": [
    {
     "name": "stdout",
     "output_type": "stream",
     "text": [
      "199922817 ends with 817, This is True!\n"
     ]
    }
   ],
   "source": [
    "string_ending_with(str(199922817), str(817))"
   ]
  },
  {
   "cell_type": "markdown",
   "metadata": {},
   "source": [
    "# Iterate 2 lists over index with enumerate"
   ]
  },
  {
   "cell_type": "markdown",
   "metadata": {},
   "source": [
    "### Iterates 2 ordered lists with the same length over index"
   ]
  },
  {
   "cell_type": "code",
   "execution_count": 3,
   "metadata": {
    "ExecuteTime": {
     "end_time": "2020-05-10T02:52:09.886572Z",
     "start_time": "2020-05-10T02:52:09.858756Z"
    }
   },
   "outputs": [
    {
     "name": "stdout",
     "output_type": "stream",
     "text": [
      "0 Croatia Zagreb\n",
      "1 USA District of Columbia\n",
      "2 Argentina Buenos Aires\n",
      "3 France Paris\n",
      "4 Brazil Rio de Janeiro\n",
      "5 Japan Tokyo\n",
      "6 Vietnam Hanoi\n",
      "7 Israel Tel Aviv\n",
      "8 Mexico Mexico City\n"
     ]
    }
   ],
   "source": [
    "countries = ['Croatia', 'USA', 'Argentina', 'France', 'Brazil', 'Japan', 'Vietnam', 'Israel','Mexico']\n",
    "cities = ['Zagreb', 'District of Columbia', 'Buenos Aires', 'Paris', 'Rio de Janeiro', 'Tokyo', 'Hanoi', 'Tel Aviv','Mexico City']\n",
    "\n",
    "for index, item in enumerate(countries):\n",
    "    print(index,item,cities[index])"
   ]
  },
  {
   "cell_type": "code",
   "execution_count": null,
   "metadata": {},
   "outputs": [],
   "source": [
    "import matplotlib"
   ]
  },
  {
   "cell_type": "markdown",
   "metadata": {},
   "source": [
    "# Capitalize each element in a list"
   ]
  },
  {
   "cell_type": "code",
   "execution_count": null,
   "metadata": {},
   "outputs": [],
   "source": [
    "capitalized_destinations = ['argentina', 'mexico', 'italy', 'finland', 'canada', 'croatia']\n",
    "# define function here\n",
    "def capitalize_countries():\n",
    "    new_list = []\n",
    "    for country in capitalized_destinations:\n",
    "        new_list.append(country.capitalize())\n",
    "    return new_list"
   ]
  },
  {
   "cell_type": "markdown",
   "metadata": {},
   "source": [
    "# Calculating Mean of values of list of dictionaries (all restaurants) of a given key (eg review_count)"
   ]
  },
  {
   "cell_type": "code",
   "execution_count": 7,
   "metadata": {
    "ExecuteTime": {
     "end_time": "2020-08-18T08:57:13.173107Z",
     "start_time": "2020-08-18T08:57:13.155106Z"
    }
   },
   "outputs": [],
   "source": [
    "# Yelp restaurant info\n",
    "\n",
    "frontier_restaurant = {'categories': [{'alias': 'mexican', 'title': 'Mexican'},\n",
    "  {'alias': 'diners', 'title': 'Diners'},\n",
    "  {'alias': 'tradamerican', 'title': 'American (Traditional)'}],\n",
    " 'is_closed': False,\n",
    " 'name': 'Frontier Restaurant',\n",
    " 'price': '$',\n",
    " 'rating': 4.0,\n",
    " 'review_count': 1369}\n",
    "\n",
    "fork_fig = {'categories': [{'alias': 'burgers', 'title': 'Burgers'},\n",
    "  {'alias': 'sandwiches', 'title': 'Sandwiches'},\n",
    "  {'alias': 'salad', 'title': 'Salad'}],\n",
    " 'is_closed': False,\n",
    " 'name': 'Fork & Fig',\n",
    " 'price': '$$',\n",
    " 'rating': 4.5,\n",
    " 'review_count': 604}\n",
    " \n",
    "dennys = {'categories': [{'alias': 'breakfast', 'title': 'Breakfast'},\n",
    "  {'alias': 'diners', 'title': 'Diners'},\n",
    "  {'alias': 'tradamerican', 'title': 'American (Traditional)'}],\n",
    " 'is_closed': False,\n",
    " 'name': \"Denny's\",\n",
    " 'price': '$',\n",
    " 'rating': 3.0,\n",
    " 'review_count': 1200}\n",
    "\n",
    "ihop = {'categories': [{'alias': 'breakfast', 'title': 'Breakfast'},\n",
    "  {'alias': 'diners', 'title': 'Diners'},\n",
    "  {'alias': 'tradamerican', 'title': 'American (Traditional)'}],\n",
    " 'is_closed': False,\n",
    " 'name': \"IHOP: International House of Pancakes\",\n",
    " 'price': '$',\n",
    " 'rating': 3.45,\n",
    " 'review_count': 1588}\n",
    "\n",
    "mcdonalds = {'categories': [{'alias': 'breakfast', 'title': 'Breakfast'},\n",
    "  {'alias': 'burgers', 'title': 'Burgers'},\n",
    "  {'alias': 'fast food', 'title': 'Good Food Fast'}],\n",
    " 'is_closed': False,\n",
    " 'name': \"McDonalds\",\n",
    " 'price': '$',\n",
    " 'rating': 3.45,\n",
    " 'review_count': 2455}\n",
    "\n",
    "pearl_street_oyster_bar = {'categories': [{'alias': 'seafood', 'title': 'Seafood'},\n",
    "  {'alias': 'gourmet', 'title': 'Gourmet'},\n",
    "  {'alias': 'Shellfish', 'title': 'Shellfish'}],\n",
    " 'is_closed': False,\n",
    " 'name': \"Pear Street Oyster Bar\",\n",
    " 'price': '$$$',\n",
    " 'rating': 4.75,\n",
    " 'review_count': 350}\n",
    "\n",
    "restaurant_list = [pearl_street_oyster_bar, mcdonalds, ihop, dennys, fork_fig, frontier_restaurant]"
   ]
  },
  {
   "cell_type": "code",
   "execution_count": 8,
   "metadata": {
    "ExecuteTime": {
     "end_time": "2020-08-18T08:57:14.035231Z",
     "start_time": "2020-08-18T08:57:14.020232Z"
    }
   },
   "outputs": [],
   "source": [
    "restaurant_review_count = []\n",
    "def mean_review_count(list_of_restaurants):\n",
    "    for x in restaurant_list:\n",
    "        restaurant_review_count.append(x.get('review_count'))\n",
    "    lenght = len(restaurant_review_count)\n",
    "    review_count_sum = sum(restaurant_review_count)\n",
    "    return review_count_sum/lenght"
   ]
  },
  {
   "cell_type": "code",
   "execution_count": 9,
   "metadata": {
    "ExecuteTime": {
     "end_time": "2020-08-18T08:57:14.767050Z",
     "start_time": "2020-08-18T08:57:14.741053Z"
    }
   },
   "outputs": [
    {
     "data": {
      "text/plain": [
       "1261.0"
      ]
     },
     "execution_count": 9,
     "metadata": {},
     "output_type": "execute_result"
    }
   ],
   "source": [
    "mean_review_count(restaurant_list)"
   ]
  },
  {
   "cell_type": "markdown",
   "metadata": {},
   "source": [
    "# Calculating Median of values of list of dictionaries (all restaurants) a given key (eg review_count)"
   ]
  },
  {
   "cell_type": "code",
   "execution_count": 10,
   "metadata": {
    "ExecuteTime": {
     "end_time": "2020-08-18T09:14:56.267838Z",
     "start_time": "2020-08-18T09:14:53.769859Z"
    }
   },
   "outputs": [],
   "source": [
    "from numpy import median\n",
    "\n",
    "\n",
    "def median_review_count(list_of_restaurants):\n",
    "    restaurant_review_count_sorted = sorted(restaurant_review_count)\n",
    "    return median(restaurant_review_count)"
   ]
  },
  {
   "cell_type": "code",
   "execution_count": 11,
   "metadata": {
    "ExecuteTime": {
     "end_time": "2020-08-18T09:15:04.741091Z",
     "start_time": "2020-08-18T09:15:04.689205Z"
    }
   },
   "outputs": [
    {
     "data": {
      "text/plain": [
       "1284.5"
      ]
     },
     "execution_count": 11,
     "metadata": {},
     "output_type": "execute_result"
    }
   ],
   "source": [
    "median_review_count(restaurant_list)"
   ]
  },
  {
   "cell_type": "code",
   "execution_count": null,
   "metadata": {},
   "outputs": [],
   "source": []
  }
 ],
 "metadata": {
  "kernelspec": {
   "display_name": "Python 3",
   "language": "python",
   "name": "python3"
  },
  "language_info": {
   "codemirror_mode": {
    "name": "ipython",
    "version": 3
   },
   "file_extension": ".py",
   "mimetype": "text/x-python",
   "name": "python",
   "nbconvert_exporter": "python",
   "pygments_lexer": "ipython3",
   "version": "3.7.4"
  },
  "toc": {
   "base_numbering": 1,
   "nav_menu": {},
   "number_sections": true,
   "sideBar": true,
   "skip_h1_title": false,
   "title_cell": "Table of Contents",
   "title_sidebar": "Contents",
   "toc_cell": false,
   "toc_position": {},
   "toc_section_display": true,
   "toc_window_display": true
  },
  "varInspector": {
   "cols": {
    "lenName": 16,
    "lenType": 16,
    "lenVar": 40
   },
   "kernels_config": {
    "python": {
     "delete_cmd_postfix": "",
     "delete_cmd_prefix": "del ",
     "library": "var_list.py",
     "varRefreshCmd": "print(var_dic_list())"
    },
    "r": {
     "delete_cmd_postfix": ") ",
     "delete_cmd_prefix": "rm(",
     "library": "var_list.r",
     "varRefreshCmd": "cat(var_dic_list()) "
    }
   },
   "types_to_exclude": [
    "module",
    "function",
    "builtin_function_or_method",
    "instance",
    "_Feature"
   ],
   "window_display": false
  }
 },
 "nbformat": 4,
 "nbformat_minor": 2
}
