{
 "cells": [
  {
   "cell_type": "markdown",
   "metadata": {},
   "source": [
    "# Insertion Sorting"
   ]
  },
  {
   "cell_type": "markdown",
   "metadata": {},
   "source": [
    "#### sorting list in numerical values"
   ]
  },
  {
   "cell_type": "code",
   "execution_count": 41,
   "metadata": {
    "ExecuteTime": {
     "end_time": "2020-03-13T20:06:14.246184Z",
     "start_time": "2020-03-13T20:06:14.243578Z"
    }
   },
   "outputs": [],
   "source": [
    "list = [83,29,88,92,1,20,11,71,24]"
   ]
  },
  {
   "cell_type": "code",
   "execution_count": 42,
   "metadata": {
    "ExecuteTime": {
     "end_time": "2020-03-13T20:06:14.313630Z",
     "start_time": "2020-03-13T20:06:14.304778Z"
    }
   },
   "outputs": [
    {
     "name": "stdout",
     "output_type": "stream",
     "text": [
      "[1, 11, 20, 24, 29, 71, 83, 88, 92]\n"
     ]
    }
   ],
   "source": [
    "def insertionsort(list):\n",
    "    for index in range(1,len(list)):\n",
    "        currentvalue = list[index]\n",
    "        position =index\n",
    "        \n",
    "        while position>0 and list[position-1]> currentvalue:\n",
    "            list[position]=list[position-1]\n",
    "            position = position-1\n",
    "        list[position]=currentvalue\n",
    "        \n",
    "insertionsort(list)\n",
    "print(list)"
   ]
  },
  {
   "cell_type": "code",
   "execution_count": 43,
   "metadata": {
    "ExecuteTime": {
     "end_time": "2020-03-13T20:06:14.402919Z",
     "start_time": "2020-03-13T20:06:14.396164Z"
    }
   },
   "outputs": [
    {
     "name": "stdout",
     "output_type": "stream",
     "text": [
      "[2, 11, 33, 55, 67, 83, 90, 100]\n"
     ]
    }
   ],
   "source": [
    "list2 = [100,2,67,83,11,90,33,55]\n",
    "def insertsort(list):\n",
    "    for index in range(1,len(list)):\n",
    "        currentvalue = list[index]\n",
    "        position = index\n",
    "        \n",
    "        while position >0 and list[position-1]>currentvalue:\n",
    "            list[position] = list[position-1]\n",
    "            position = position-1\n",
    "        list[position]=currentvalue\n",
    "insertsort(list2)\n",
    "print(list2)\n",
    "\n",
    "        \n",
    "            "
   ]
  },
  {
   "cell_type": "code",
   "execution_count": 44,
   "metadata": {
    "ExecuteTime": {
     "end_time": "2020-03-13T20:06:14.483469Z",
     "start_time": "2020-03-13T20:06:14.469458Z"
    }
   },
   "outputs": [
    {
     "data": {
      "text/plain": [
       "[5, 11, 22, 44, 77, 88, 99]"
      ]
     },
     "execution_count": 44,
     "metadata": {},
     "output_type": "execute_result"
    }
   ],
   "source": [
    "list3 = [5,99,22,11,44,77,88]\n",
    "\n",
    "def instsort(list):\n",
    "    for index in range(1,len(list)):\n",
    "        currentvalue = list[index]\n",
    "        position = index\n",
    "        \n",
    "        while position > 0 and list[position-1] > currentvalue:\n",
    "            list[position] = list[position-1]\n",
    "            position = position-1\n",
    "        list[position]=currentvalue\n",
    "instsort(list3)\n",
    "list3"
   ]
  },
  {
   "cell_type": "markdown",
   "metadata": {},
   "source": [
    "# Searching "
   ]
  },
  {
   "cell_type": "markdown",
   "metadata": {},
   "source": [
    "### return boolean if value is in list"
   ]
  },
  {
   "cell_type": "code",
   "execution_count": 45,
   "metadata": {
    "ExecuteTime": {
     "end_time": "2020-03-13T20:06:14.725588Z",
     "start_time": "2020-03-13T20:06:14.722851Z"
    }
   },
   "outputs": [
    {
     "name": "stdout",
     "output_type": "stream",
     "text": [
      "[5, 11, 22, 44, 77, 88, 99]\n"
     ]
    }
   ],
   "source": [
    "print(list3)"
   ]
  },
  {
   "cell_type": "code",
   "execution_count": 46,
   "metadata": {
    "ExecuteTime": {
     "end_time": "2020-03-13T20:06:14.815979Z",
     "start_time": "2020-03-13T20:06:14.810959Z"
    }
   },
   "outputs": [
    {
     "data": {
      "text/plain": [
       "True"
      ]
     },
     "execution_count": 46,
     "metadata": {},
     "output_type": "execute_result"
    }
   ],
   "source": [
    "22 in list3"
   ]
  },
  {
   "cell_type": "code",
   "execution_count": 47,
   "metadata": {
    "ExecuteTime": {
     "end_time": "2020-03-13T20:06:14.890724Z",
     "start_time": "2020-03-13T20:06:14.887309Z"
    }
   },
   "outputs": [
    {
     "data": {
      "text/plain": [
       "False"
      ]
     },
     "execution_count": 47,
     "metadata": {},
     "output_type": "execute_result"
    }
   ],
   "source": [
    "100 in list3"
   ]
  },
  {
   "cell_type": "markdown",
   "metadata": {},
   "source": [
    "# Find duplicates in a list"
   ]
  },
  {
   "cell_type": "code",
   "execution_count": 48,
   "metadata": {
    "ExecuteTime": {
     "end_time": "2020-03-13T20:06:15.059652Z",
     "start_time": "2020-03-13T20:06:15.056512Z"
    }
   },
   "outputs": [],
   "source": [
    "list4 = [1,3,1,9,2,5,6,7,7,8,1,9]"
   ]
  },
  {
   "cell_type": "markdown",
   "metadata": {},
   "source": [
    "#### Lists all duplicates in a list"
   ]
  },
  {
   "cell_type": "code",
   "execution_count": 49,
   "metadata": {
    "ExecuteTime": {
     "end_time": "2020-03-13T20:06:15.226750Z",
     "start_time": "2020-03-13T20:06:15.223205Z"
    }
   },
   "outputs": [],
   "source": [
    "def findalldupes(list):\n",
    "    duplicates = []\n",
    "    for item in list:\n",
    "        if list.count(item) >1:\n",
    "            duplicates.append(item)\n",
    "    print(duplicates)"
   ]
  },
  {
   "cell_type": "code",
   "execution_count": 50,
   "metadata": {
    "ExecuteTime": {
     "end_time": "2020-03-13T20:06:15.310011Z",
     "start_time": "2020-03-13T20:06:15.307417Z"
    },
    "scrolled": true
   },
   "outputs": [
    {
     "name": "stdout",
     "output_type": "stream",
     "text": [
      "[1, 1, 9, 7, 7, 1, 9]\n"
     ]
    }
   ],
   "source": [
    "findalldupes(list4)"
   ]
  },
  {
   "cell_type": "markdown",
   "metadata": {},
   "source": [
    "#### Lists duplicate values in a list"
   ]
  },
  {
   "cell_type": "code",
   "execution_count": 51,
   "metadata": {
    "ExecuteTime": {
     "end_time": "2020-03-13T20:06:15.478803Z",
     "start_time": "2020-03-13T20:06:15.474264Z"
    }
   },
   "outputs": [],
   "source": [
    "def showdupes(list):\n",
    "    duplicate_values = []\n",
    "    for item in list:\n",
    "        if list.count(item) > 1:\n",
    "            duplicate_values.append(item)\n",
    "    print(set(duplicate_values))"
   ]
  },
  {
   "cell_type": "code",
   "execution_count": 52,
   "metadata": {
    "ExecuteTime": {
     "end_time": "2020-03-13T20:06:15.561038Z",
     "start_time": "2020-03-13T20:06:15.557989Z"
    }
   },
   "outputs": [
    {
     "name": "stdout",
     "output_type": "stream",
     "text": [
      "{1, 9, 7}\n"
     ]
    }
   ],
   "source": [
    "showdupes(list4)"
   ]
  },
  {
   "cell_type": "code",
   "execution_count": null,
   "metadata": {},
   "outputs": [],
   "source": []
  }
 ],
 "metadata": {
  "kernelspec": {
   "display_name": "Python 3",
   "language": "python",
   "name": "python3"
  },
  "language_info": {
   "codemirror_mode": {
    "name": "ipython",
    "version": 3
   },
   "file_extension": ".py",
   "mimetype": "text/x-python",
   "name": "python",
   "nbconvert_exporter": "python",
   "pygments_lexer": "ipython3",
   "version": "3.7.3"
  },
  "varInspector": {
   "cols": {
    "lenName": 16,
    "lenType": 16,
    "lenVar": 40
   },
   "kernels_config": {
    "python": {
     "delete_cmd_postfix": "",
     "delete_cmd_prefix": "del ",
     "library": "var_list.py",
     "varRefreshCmd": "print(var_dic_list())"
    },
    "r": {
     "delete_cmd_postfix": ") ",
     "delete_cmd_prefix": "rm(",
     "library": "var_list.r",
     "varRefreshCmd": "cat(var_dic_list()) "
    }
   },
   "types_to_exclude": [
    "module",
    "function",
    "builtin_function_or_method",
    "instance",
    "_Feature"
   ],
   "window_display": false
  }
 },
 "nbformat": 4,
 "nbformat_minor": 2
}
